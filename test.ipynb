{
 "cells": [
  {
   "cell_type": "code",
   "execution_count": 8,
   "metadata": {},
   "outputs": [],
   "source": [
    "from imutils.perspective import four_point_transform as FPT\n",
    "from collections import Counter\n",
    "import matplotlib.pyplot as plt\n",
    "from imutils import contours\n",
    "from skimage import io\n",
    "import numpy as np\n",
    "import imutils\n",
    "import cv2\n",
    "import re\n",
    "\n",
    "import warnings\n",
    "\n",
    "warnings.filterwarnings(\"ignore\")\n"
   ]
  },
  {
   "cell_type": "code",
   "execution_count": 9,
   "metadata": {},
   "outputs": [],
   "source": [
    "def get_image(url, iter = 2, width = None):\n",
    "    image = io.imread(url)\n",
    "    if width:\n",
    "        image = imutils.resize(image, width)\n",
    "    ans = image.copy()\n",
    "    accumEdged = np.zeros(image.shape[:2], dtype=\"uint8\")\n",
    "    # convert image to black and white\n",
    "    gray = cv2.cvtColor(image, cv2.COLOR_BGR2GRAY)\n",
    "    # blur to remove some of the noise\n",
    "    blurred = cv2.GaussianBlur(gray, (5, 5), 0)\n",
    "    # get edges\n",
    "    edged = cv2.Canny(blurred, 75, 200)\n",
    "    accumEdged = cv2.bitwise_or(accumEdged, edged)\n",
    "    # get contours\n",
    "    ctrs = cv2.findContours(edged.copy(), cv2.RETR_EXTERNAL, cv2.CHAIN_APPROX_SIMPLE)\n",
    "    ctrs = imutils.grab_contours(ctrs)\n",
    "    docCnt = None\n",
    "\n",
    "    # ensure that at least one contour was found\n",
    "    if len(ctrs) > 0:\n",
    "        # sort the contours according to their size in\n",
    "        # descending order\n",
    "        ctrs = sorted(ctrs, key=cv2.contourArea, reverse=True)\n",
    "\n",
    "        # loop over the sorted contours\n",
    "        for c in ctrs:\n",
    "            # approximate the contour\n",
    "            peri = cv2.arcLength(c, True)\n",
    "            approx = cv2.approxPolyDP(c, 0.02 * peri, True)\n",
    "\n",
    "            # if our approximated contour has four points,\n",
    "            # then we can assume we have found the paper\n",
    "            if len(approx) == 4:\n",
    "                docCnt = approx\n",
    "                break\n",
    "\n",
    "    paper = image.copy()\n",
    "\n",
    "    # apply Otsu's thresholding method to binarize the image\n",
    "    thresh = cv2.threshold(gray, 0, 255, cv2.THRESH_BINARY_INV | cv2.THRESH_OTSU)[1]\n",
    "    kernel = np.ones((5,5), np.uint8)\n",
    "    # erode and dilate to remove some of the unnecessary detail\n",
    "    thresh = cv2.erode(thresh, kernel, iterations = iter)\n",
    "    thresh = cv2.dilate(thresh, kernel, iterations = iter)\n",
    "\n",
    "    # find contours in the thresholded image\n",
    "    ctrs = cv2.findContours(thresh.copy(), cv2.RETR_EXTERNAL, cv2.CHAIN_APPROX_SIMPLE)\n",
    "    ctrs = imutils.grab_contours(ctrs)\n",
    "\n",
    "    return image, ctrs, paper, gray, edged, thresh\n",
    "\n",
    "    # plot image without axes\n",
    "    def display(img):\n",
    "    fig = plt.figure(figsize = (8,12))\n",
    "    plt.imshow(img)\n",
    "    plt.axis('off')\n",
    "    plt.show()\n"
   ]
  },
  {
   "cell_type": "code",
   "execution_count": null,
   "metadata": {},
   "outputs": [],
   "source": []
  }
 ],
 "metadata": {
  "kernelspec": {
   "display_name": "torch_transfomer",
   "language": "python",
   "name": "python3"
  },
  "language_info": {
   "codemirror_mode": {
    "name": "ipython",
    "version": 3
   },
   "file_extension": ".py",
   "mimetype": "text/x-python",
   "name": "python",
   "nbconvert_exporter": "python",
   "pygments_lexer": "ipython3",
   "version": "3.8.19"
  }
 },
 "nbformat": 4,
 "nbformat_minor": 2
}
